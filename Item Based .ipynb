{
 "cells": [
  {
   "cell_type": "code",
   "execution_count": 1,
   "id": "7f3642ba-ea62-4c36-ab0d-5cb4cdf1c21a",
   "metadata": {},
   "outputs": [],
   "source": [
    "import pandas as pd\n",
    "import numpy as np"
   ]
  },
  {
   "cell_type": "code",
   "execution_count": 2,
   "id": "9e5287da-3eaf-45d7-a994-7720530bfb13",
   "metadata": {},
   "outputs": [],
   "source": [
    "readed=('user_id','movie_id','rating','time')\n",
    "dataset=pd.read_csv('ml-100k/u.data',names=readed,sep='\\t',encoding='latin-1')"
   ]
  },
  {
   "cell_type": "code",
   "execution_count": 3,
   "id": "e4e3a69c-ed70-459b-af6e-2fe6d3687a9b",
   "metadata": {},
   "outputs": [],
   "source": [
    "user_data=dataset.user_id.unique().shape[0]\n",
    "item_data=dataset.movie_id.unique().shape[0]"
   ]
  },
  {
   "cell_type": "code",
   "execution_count": 4,
   "id": "cb9bd34d-4253-4465-81a5-3501894279fd",
   "metadata": {},
   "outputs": [],
   "source": [
    "pivtable=dataset.pivot_table(index='user_id',columns='movie_id',values='rating')"
   ]
  },
  {
   "cell_type": "code",
   "execution_count": 5,
   "id": "1119aba3-291d-4fc3-96b7-4664890ac5b7",
   "metadata": {},
   "outputs": [],
   "source": [
    "piv_repla=pivtable.replace(np.nan,0)"
   ]
  },
  {
   "cell_type": "code",
   "execution_count": 6,
   "id": "f55307cc-9b6e-4d09-98c7-02379ab1c62a",
   "metadata": {},
   "outputs": [],
   "source": [
    "from sklearn.metrics.pairwise import pairwise_distances\n",
    "user_cosi=pairwise_distances(piv_repla,metric='cosine')\n",
    "item_cosi=pairwise_distances(piv_repla.T,metric='cosine')"
   ]
  },
  {
   "cell_type": "code",
   "execution_count": 7,
   "id": "f5498308-a8ff-4017-b614-44aad75a4a00",
   "metadata": {},
   "outputs": [],
   "source": [
    "def predic(piv_repla,user_cosi,type='user'):\n",
    "    if type=='user':\n",
    "        meann=piv_repla.mean(axis=1)\n",
    "        subb=(piv_repla-np.array(meann)[:,np.newaxis])\n",
    "        rep=np.array(meann)[:,np.newaxis]+user_cosi.dot(subb)/np.array([np.abs(user_cosi).sum(axis=1)]).T\n",
    "    elif type=='item':\n",
    "        rep=piv_repla.dot(item_cosi)/np.array([np.abs(item_cosi).sum(axis=1)])\n",
    "    return rep"
   ]
  },
  {
   "cell_type": "code",
   "execution_count": 8,
   "id": "a5fa5f2d-6c21-40ae-975e-54aabee72078",
   "metadata": {},
   "outputs": [],
   "source": [
    "user_pre=predic(piv_repla,user_cosi,type='user')\n",
    "item_pre=predic(piv_repla,item_cosi,type='item')"
   ]
  },
  {
   "cell_type": "code",
   "execution_count": 9,
   "id": "a26df864-6b78-4728-b17f-73f72b404d99",
   "metadata": {},
   "outputs": [],
   "source": [
    "input_movie=99"
   ]
  },
  {
   "cell_type": "code",
   "execution_count": 10,
   "id": "b1f58bad-0e5b-46ff-9606-e023fd98df0a",
   "metadata": {},
   "outputs": [],
   "source": [
    "datacosi=pd.DataFrame(item_cosi)\n"
   ]
  },
  {
   "cell_type": "code",
   "execution_count": 11,
   "id": "5374089d-94a0-4a82-9bb0-166e35bf4e1b",
   "metadata": {},
   "outputs": [],
   "source": [
    "simi_movie=datacosi[input_movie].sort_values(ascending=True).head(5).index"
   ]
  },
  {
   "cell_type": "code",
   "execution_count": 12,
   "id": "062a96e5-a080-416d-82a8-b43bf68b9c9a",
   "metadata": {},
   "outputs": [
    {
     "data": {
      "text/plain": [
       "[99, 6, 49, 126, 55]"
      ]
     },
     "execution_count": 12,
     "metadata": {},
     "output_type": "execute_result"
    }
   ],
   "source": [
    "simi_movie_user=list(simi_movie)\n",
    "simi_movie_user"
   ]
  },
  {
   "cell_type": "code",
   "execution_count": 13,
   "id": "e1fc959a-b60d-49f5-bdaa-83fba9b87970",
   "metadata": {},
   "outputs": [],
   "source": [
    "user_list=[]\n",
    "for krnd in simi_movie_user:\n",
    "    simi=dataset[dataset['movie_id']==krnd]['user_id']\n",
    "    user_list.append(simi)"
   ]
  },
  {
   "cell_type": "code",
   "execution_count": 14,
   "id": "0f21ccf2-3e43-4769-ab65-ed1b0308a6a2",
   "metadata": {},
   "outputs": [
    {
     "data": {
      "text/plain": [
       "5"
      ]
     },
     "execution_count": 14,
     "metadata": {},
     "output_type": "execute_result"
    }
   ],
   "source": [
    "len(user_list)"
   ]
  },
  {
   "cell_type": "code",
   "execution_count": 15,
   "id": "3fc8ea88-508d-42dc-89c6-30c87007ed44",
   "metadata": {},
   "outputs": [
    {
     "data": {
      "text/plain": [
       "525"
      ]
     },
     "execution_count": 15,
     "metadata": {},
     "output_type": "execute_result"
    }
   ],
   "source": [
    "import itertools\n",
    "simi_iter=list(itertools.chain.from_iterable(user_list))\n",
    "len(simi_iter)"
   ]
  },
  {
   "cell_type": "code",
   "execution_count": 16,
   "id": "0a5023e4-6952-478c-a224-844480b15e91",
   "metadata": {},
   "outputs": [
    {
     "data": {
      "text/plain": [
       "363"
      ]
     },
     "execution_count": 16,
     "metadata": {},
     "output_type": "execute_result"
    }
   ],
   "source": [
    "simi_iterset=set(simi_iter)\n",
    "len(simi_iterset)"
   ]
  },
  {
   "cell_type": "code",
   "execution_count": 17,
   "id": "81d46f89-14c9-4c6c-b715-85dba8e8e179",
   "metadata": {},
   "outputs": [],
   "source": [
    "simi_input_movie=list(dataset[dataset['movie_id']==input_movie]['user_id'])"
   ]
  },
  {
   "cell_type": "code",
   "execution_count": 18,
   "id": "e7c01dfd-9f52-438d-9d4b-2211655bd974",
   "metadata": {},
   "outputs": [
    {
     "data": {
      "text/plain": [
       "172"
      ]
     },
     "execution_count": 18,
     "metadata": {},
     "output_type": "execute_result"
    }
   ],
   "source": [
    "len(simi_input_movie)"
   ]
  },
  {
   "cell_type": "code",
   "execution_count": 19,
   "id": "808a282a-756b-4ac0-9a7e-9ed3d24d9f9e",
   "metadata": {},
   "outputs": [],
   "source": [
    "recomm=[]\n",
    "for reeh in simi_iterset:\n",
    "    if reeh in simi_input_movie:\n",
    "        pass\n",
    "    else:\n",
    "        recomm.append(reeh)"
   ]
  },
  {
   "cell_type": "code",
   "execution_count": 20,
   "id": "8c906057-a0c0-469c-adfd-863eae57bed7",
   "metadata": {},
   "outputs": [
    {
     "data": {
      "text/plain": [
       "191"
      ]
     },
     "execution_count": 20,
     "metadata": {},
     "output_type": "execute_result"
    }
   ],
   "source": [
    "len(recomm)"
   ]
  },
  {
   "cell_type": "code",
   "execution_count": 21,
   "id": "5e570096-2a85-4c13-8f42-7b7c7f902deb",
   "metadata": {},
   "outputs": [],
   "source": [
    "predict_table=pd.DataFrame(item_pre[input_movie])"
   ]
  },
  {
   "cell_type": "code",
   "execution_count": 22,
   "id": "51b0d0fe-daa9-414d-b54e-fdbe479ec765",
   "metadata": {},
   "outputs": [
    {
     "data": {
      "text/html": [
       "<div>\n",
       "<style scoped>\n",
       "    .dataframe tbody tr th:only-of-type {\n",
       "        vertical-align: middle;\n",
       "    }\n",
       "\n",
       "    .dataframe tbody tr th {\n",
       "        vertical-align: top;\n",
       "    }\n",
       "\n",
       "    .dataframe thead th {\n",
       "        text-align: right;\n",
       "    }\n",
       "</style>\n",
       "<table border=\"1\" class=\"dataframe\">\n",
       "  <thead>\n",
       "    <tr style=\"text-align: right;\">\n",
       "      <th>user_id</th>\n",
       "      <th>1</th>\n",
       "      <th>2</th>\n",
       "      <th>3</th>\n",
       "      <th>4</th>\n",
       "      <th>5</th>\n",
       "      <th>6</th>\n",
       "      <th>7</th>\n",
       "      <th>8</th>\n",
       "      <th>9</th>\n",
       "      <th>10</th>\n",
       "      <th>...</th>\n",
       "      <th>934</th>\n",
       "      <th>935</th>\n",
       "      <th>936</th>\n",
       "      <th>937</th>\n",
       "      <th>938</th>\n",
       "      <th>939</th>\n",
       "      <th>940</th>\n",
       "      <th>941</th>\n",
       "      <th>942</th>\n",
       "      <th>943</th>\n",
       "    </tr>\n",
       "  </thead>\n",
       "  <tbody>\n",
       "    <tr>\n",
       "      <th>99</th>\n",
       "      <td>0.439739</td>\n",
       "      <td>0.101971</td>\n",
       "      <td>0.082824</td>\n",
       "      <td>0.053157</td>\n",
       "      <td>0.23622</td>\n",
       "      <td>0.33735</td>\n",
       "      <td>0.772002</td>\n",
       "      <td>0.092968</td>\n",
       "      <td>0.042464</td>\n",
       "      <td>0.343333</td>\n",
       "      <td>...</td>\n",
       "      <td>0.296601</td>\n",
       "      <td>0.062113</td>\n",
       "      <td>0.257805</td>\n",
       "      <td>0.057268</td>\n",
       "      <td>0.155542</td>\n",
       "      <td>0.097444</td>\n",
       "      <td>0.156856</td>\n",
       "      <td>0.034494</td>\n",
       "      <td>0.156728</td>\n",
       "      <td>0.252251</td>\n",
       "    </tr>\n",
       "  </tbody>\n",
       "</table>\n",
       "<p>1 rows × 943 columns</p>\n",
       "</div>"
      ],
      "text/plain": [
       "user_id       1         2         3         4        5        6         7    \\\n",
       "99       0.439739  0.101971  0.082824  0.053157  0.23622  0.33735  0.772002   \n",
       "\n",
       "user_id       8         9         10   ...       934       935       936  \\\n",
       "99       0.092968  0.042464  0.343333  ...  0.296601  0.062113  0.257805   \n",
       "\n",
       "user_id       937       938       939       940       941       942       943  \n",
       "99       0.057268  0.155542  0.097444  0.156856  0.034494  0.156728  0.252251  \n",
       "\n",
       "[1 rows x 943 columns]"
      ]
     },
     "execution_count": 22,
     "metadata": {},
     "output_type": "execute_result"
    }
   ],
   "source": [
    "predict_tabletrans=predict_table.T\n",
    "predict_tabletrans"
   ]
  },
  {
   "cell_type": "code",
   "execution_count": 23,
   "id": "46d763f2-7ea4-4f4f-9588-2cf01f29c491",
   "metadata": {},
   "outputs": [],
   "source": [
    "high_movie=[]\n",
    "for ree in recomm:\n",
    "    #if ree in predict_tabletrans.columns:\n",
    "        value= predict_tabletrans[ree].values\n",
    "        if(value>=1):\n",
    "             high_movie.append(ree)"
   ]
  },
  {
   "cell_type": "code",
   "execution_count": 24,
   "id": "71e9dba7-9523-4e2d-8848-94fae0b936be",
   "metadata": {},
   "outputs": [
    {
     "data": {
      "text/plain": [
       "[655]"
      ]
     },
     "execution_count": 24,
     "metadata": {},
     "output_type": "execute_result"
    }
   ],
   "source": [
    "high_movie"
   ]
  },
  {
   "cell_type": "code",
   "execution_count": 25,
   "id": "23003ece-0637-451a-8aa6-6217b823b410",
   "metadata": {},
   "outputs": [
    {
     "data": {
      "text/plain": [
       "set()"
      ]
     },
     "execution_count": 25,
     "metadata": {},
     "output_type": "execute_result"
    }
   ],
   "source": [
    "finall=set(simi_input_movie)&set(recomm)\n",
    "finall"
   ]
  }
 ],
 "metadata": {
  "kernelspec": {
   "display_name": "Python 3 (ipykernel)",
   "language": "python",
   "name": "python3"
  },
  "language_info": {
   "codemirror_mode": {
    "name": "ipython",
    "version": 3
   },
   "file_extension": ".py",
   "mimetype": "text/x-python",
   "name": "python",
   "nbconvert_exporter": "python",
   "pygments_lexer": "ipython3",
   "version": "3.10.14"
  }
 },
 "nbformat": 4,
 "nbformat_minor": 5
}

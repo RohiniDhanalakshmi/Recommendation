{
 "cells": [
  {
   "cell_type": "code",
   "execution_count": null,
   "id": "5ffe1bd0-1b52-4f97-abdc-476ad2a3bbbd",
   "metadata": {},
   "outputs": [],
   "source": [
    "import pandas as pd \n",
    "import numpy as np"
   ]
  },
  {
   "cell_type": "code",
   "execution_count": null,
   "id": "6cb08228-9d9e-42d8-a67a-86dddfed382a",
   "metadata": {},
   "outputs": [],
   "source": [
    "readd=['user_id','movie_id','rating','time']\n",
    "data=pd.read_csv('ml-100k/u.data',names=readd,sep='\\t',encoding='latin-1')"
   ]
  },
  {
   "cell_type": "code",
   "execution_count": null,
   "id": "2915a342-74e6-43ca-895f-c8be51dbe82e",
   "metadata": {},
   "outputs": [],
   "source": [
    "i_cols = ['movie id', 'movie title' ,'release date','video release date', 'IMDb URL', 'unknown', 'Action', 'Adventure',\n",
    "'Animation', 'Children\\'s', 'Comedy', 'Crime', 'Documentary', 'Drama', 'Fantasy','Film-Noir', 'Horror', 'Musical', 'Mystery', \n",
    "'Romance', 'Sci-Fi', 'Thriller', 'War', 'Western']\n",
    "items = pd.read_csv('ml-100k/u.item', sep='|', names=i_cols,encoding='latin-1')"
   ]
  },
  {
   "cell_type": "code",
   "execution_count": null,
   "id": "3126a89d-0695-454f-845e-7465d04521e4",
   "metadata": {},
   "outputs": [],
   "source": [
    "fund=items[[ 'Action', 'Adventure','Animation', 'Children\\'s', 'Comedy', 'Crime', 'Documentary', 'Drama', 'Fantasy',\n",
    "'Film-Noir', 'Horror', 'Musical', 'Mystery', 'Romance', 'Sci-Fi', 'Thriller', 'War', 'Western']]"
   ]
  },
  {
   "cell_type": "code",
   "execution_count": null,
   "id": "0f26b9f6-e08b-4321-a967-75c9820186e3",
   "metadata": {},
   "outputs": [],
   "source": [
    "fund.index=range(1,1683)\n",
    "ite_vect=fund.T"
   ]
  },
  {
   "cell_type": "code",
   "execution_count": null,
   "id": "95d1d8ca-f32b-4802-98ae-de855fbc75e5",
   "metadata": {},
   "outputs": [],
   "source": [
    "pivt=data.pivot_table(index='user_id',columns='movie_id',values='rating')"
   ]
  },
  {
   "cell_type": "code",
   "execution_count": null,
   "id": "b723e699-36e6-44f5-ad24-267f720b5b6c",
   "metadata": {},
   "outputs": [],
   "source": [
    "pivt_rep=pivt.replace(np.nan,0)\n",
    "pivt=pivt_rep.T\n",
    "pivt"
   ]
  },
  {
   "cell_type": "code",
   "execution_count": null,
   "id": "48fcc52c-75cb-4a36-9f74-807f9a260c47",
   "metadata": {},
   "outputs": [],
   "source": [
    "use_movi=[]\n",
    "for user in range(1,944):\n",
    "     use_vec= data[data['user_id']==user][['movie_id','rating']]"
   ]
  },
  {
   "cell_type": "code",
   "execution_count": null,
   "id": "70302f4c-338d-4efc-86ec-4789eae6a8dd",
   "metadata": {},
   "outputs": [],
   "source": [
    "movi_dd=[]\n",
    "for jj in use_vec['movie_id']:\n",
    "    mov=ite_vect[jj].values\n",
    "    movi_dd.append(mov)"
   ]
  },
  {
   "cell_type": "code",
   "execution_count": null,
   "id": "f9cefec2-c455-44f8-8ceb-c2e36c16a642",
   "metadata": {},
   "outputs": [],
   "source": [
    "movii=pd.DataFrame(movi_dd,columns=range(1,19))\n",
    "movii"
   ]
  },
  {
   "cell_type": "code",
   "execution_count": null,
   "id": "ea6728c4-5a2d-4022-9ef6-a3709fa7f6c4",
   "metadata": {},
   "outputs": [],
   "source": [
    "mean_vall=[]\n",
    "for kk in range(1,19):\n",
    "    mov_mea=sum(movii[kk])\n",
    "    mean_vall.append(mov_mea/len(movii))\n",
    "    use_movi.append(mean_vall)"
   ]
  },
  {
   "cell_type": "code",
   "execution_count": null,
   "id": "771aa145-efad-4c83-82c1-789feee1c9f5",
   "metadata": {},
   "outputs": [],
   "source": [
    "vv=pd.DataFrame(use_movi)\n",
    "vv.shape"
   ]
  },
  {
   "cell_type": "code",
   "execution_count": null,
   "id": "072ccc53-59ce-4331-aa76-3abf7a8e8394",
   "metadata": {},
   "outputs": [],
   "source": [
    "contentt_vector=np.dot(use_movi,ite_vect)\n",
    "contentt_vector"
   ]
  },
  {
   "cell_type": "code",
   "execution_count": null,
   "id": "6f444448-89a6-443b-b762-ad9c7506f2c9",
   "metadata": {},
   "outputs": [],
   "source": [
    "content_vector=pd.DataFrame(contentt_vector)\n",
    "content_vector"
   ]
  },
  {
   "cell_type": "code",
   "execution_count": null,
   "id": "0c4e28d4-8269-4338-9bd6-e3fa7a856a39",
   "metadata": {},
   "outputs": [],
   "source": [
    "from sklearn.metrics.pairwise import pairwise_distances\n",
    "use_vector=pairwise_distances(use_movi,metric='cosine')"
   ]
  },
  {
   "cell_type": "code",
   "execution_count": null,
   "id": "3367c257-fdf6-429b-8d90-8594d36fa6e3",
   "metadata": {},
   "outputs": [],
   "source": [
    "usee_vector=pd.DataFrame(use_vector)\n",
    "usee_vector"
   ]
  },
  {
   "cell_type": "code",
   "execution_count": null,
   "id": "0384aced-58db-4778-8f18-1610a4a3fbca",
   "metadata": {},
   "outputs": [],
   "source": [
    "def recommend_movies(data,ite_vect):\n",
    "    use_movi=[]\n",
    "    for user in range(1,943):\n",
    "        use_vec= data[data['user_id']==user][['movie_id','rating']]\n",
    "        movi_dd=[]\n",
    "        for jj in use_vec['movie_id']:\n",
    "             mov=ite_vect[jj].values\n",
    "             movi_dd.append(mov)\n",
    "             movii=pd.DataFrame(movi_dd,columns=range(1,19))\n",
    "        mean_vall=[]\n",
    "        for kk in movii.columns:\n",
    "                    mov_mea=sum(movii[kk])\n",
    "                    mean_vall.append(mov_mea/len(movii))\n",
    "                    use_movi.append(mean_vall)\n",
    "        return use_movi"
   ]
  },
  {
   "cell_type": "code",
   "execution_count": null,
   "id": "d28e685a-763f-4feb-b001-df7d485bba25",
   "metadata": {},
   "outputs": [],
   "source": [
    "def content_based(data,content_vector,usee_vector,userid,thresh,items):\n",
    "    u2=data[data['user_id']==userid]['movie_id'].values\n",
    "    val=content_vector[content_vector[userid]>(content_vector[userid].max()-thresh)][2]\n",
    "    recom=[]\n",
    "    for i in val.index:\n",
    "       if(i in u2):\n",
    "           pass\n",
    "       else:\n",
    "        recom.append(i)\n",
    "        yy=items[items['movie id'].isin(recom)][['movie id','movie title']]\n",
    "    return yy"
   ]
  },
  {
   "cell_type": "code",
   "execution_count": null,
   "id": "c777dd5e-23f9-45e5-93d5-049c58addca5",
   "metadata": {},
   "outputs": [],
   "source": [
    "content_based(data,content_vector,usee_vector,196,5,items)"
   ]
  },
  {
   "cell_type": "code",
   "execution_count": null,
   "id": "9df0418d-7a72-4769-a977-59da86f74e96",
   "metadata": {},
   "outputs": [],
   "source": []
  },
  {
   "cell_type": "code",
   "execution_count": null,
   "id": "438dfe23-ba51-40e1-9d33-40554af55492",
   "metadata": {},
   "outputs": [],
   "source": []
  },
  {
   "cell_type": "code",
   "execution_count": null,
   "id": "e77c0ef8-8d16-496c-a229-0c0914908f7d",
   "metadata": {},
   "outputs": [],
   "source": []
  }
 ],
 "metadata": {
  "kernelspec": {
   "display_name": "Python 3 (ipykernel)",
   "language": "python",
   "name": "python3"
  },
  "language_info": {
   "codemirror_mode": {
    "name": "ipython",
    "version": 3
   },
   "file_extension": ".py",
   "mimetype": "text/x-python",
   "name": "python",
   "nbconvert_exporter": "python",
   "pygments_lexer": "ipython3",
   "version": "3.10.14"
  }
 },
 "nbformat": 4,
 "nbformat_minor": 5
}

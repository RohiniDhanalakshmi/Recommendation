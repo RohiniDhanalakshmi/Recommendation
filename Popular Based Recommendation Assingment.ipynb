{
 "cells": [
  {
   "cell_type": "code",
   "execution_count": 1,
   "id": "2bc8cdcb-f485-43f4-bb74-d9b6cdec4a87",
   "metadata": {},
   "outputs": [],
   "source": [
    "import pandas as pd \n",
    "import numpy as np"
   ]
  },
  {
   "cell_type": "code",
   "execution_count": 2,
   "id": "9c82ee2c-16ec-4304-9ec3-e8b6e7df5564",
   "metadata": {},
   "outputs": [],
   "source": [
    "list=['user_id','movie_id','rating','unix_times']\n",
    "data=pd.read_csv(\"ml-100k/u.data\",sep='\\t',names=list,encoding='latin-1')"
   ]
  },
  {
   "cell_type": "code",
   "execution_count": 3,
   "id": "cf8dabf8-46c7-40b1-a867-191dafbce1c6",
   "metadata": {},
   "outputs": [],
   "source": [
    "uni_user=data.user_id.unique().shape[0]\n",
    "uni_movie=data.movie_id.unique().shape[0]"
   ]
  },
  {
   "cell_type": "code",
   "execution_count": 4,
   "id": "be890246-6af4-41cf-860d-993a5cdbb535",
   "metadata": {},
   "outputs": [],
   "source": [
    "datam=data.pivot_table(index='user_id',columns='movie_id',values='rating')"
   ]
  },
  {
   "cell_type": "code",
   "execution_count": 5,
   "id": "25e789a3-333b-413b-b0fa-0f36e2e303d2",
   "metadata": {},
   "outputs": [],
   "source": [
    "datama=datam.replace(np.nan,0)"
   ]
  },
  {
   "cell_type": "code",
   "execution_count": 6,
   "id": "f55e3cf6-c6bf-408e-bb4a-9f2b303b5186",
   "metadata": {},
   "outputs": [],
   "source": [
    "from sklearn.metrics.pairwise import pairwise_distances\n",
    "user_sim=pairwise_distances(datama,metric='cosine')\n",
    "movie_sim=pairwise_distances(datama.T,metric='cosine')"
   ]
  },
  {
   "cell_type": "code",
   "execution_count": 8,
   "id": "a223c81e-bdae-46c5-858d-d9c9eef3b4b9",
   "metadata": {},
   "outputs": [],
   "source": [
    "meanv=datama.mean()\n",
    "sub=datama-np.array(meanv)\n",
    "user = np.array(meanv)+user_sim.dot(sub)/user_sim.sum()\n",
    "movie=datama.dot(movie_sim)/movie_sim.sum()"
   ]
  },
  {
   "cell_type": "code",
   "execution_count": 9,
   "id": "853f9e5d-ff54-48dc-aff0-0d109c5ba393",
   "metadata": {},
   "outputs": [
    {
     "data": {
      "text/plain": [
       "array([[1.85878229, 0.44528841, 0.28945273, ..., 0.00212139, 0.00318029,\n",
       "        0.00318002],\n",
       "       [1.8589549 , 0.44541688, 0.28949836, ..., 0.00212058, 0.00318144,\n",
       "        0.00318165],\n",
       "       [1.85904519, 0.44541165, 0.28951008, ..., 0.0021199 , 0.00318143,\n",
       "        0.00318165],\n",
       "       ...,\n",
       "       [1.85885306, 0.44538651, 0.28948212, ..., 0.00212105, 0.00318119,\n",
       "        0.00318136],\n",
       "       [1.85892103, 0.44535584, 0.28949856, ..., 0.0021209 , 0.00318086,\n",
       "        0.00318131],\n",
       "       [1.85879202, 0.44527444, 0.28945166, ..., 0.00212144, 0.00318021,\n",
       "        0.00318033]])"
      ]
     },
     "execution_count": 9,
     "metadata": {},
     "output_type": "execute_result"
    }
   ],
   "source": [
    "user"
   ]
  },
  {
   "cell_type": "code",
   "execution_count": null,
   "id": "ea5ea8fa-abaa-4932-b65b-e51d248cb76c",
   "metadata": {},
   "outputs": [],
   "source": []
  }
 ],
 "metadata": {
  "kernelspec": {
   "display_name": "Python 3 (ipykernel)",
   "language": "python",
   "name": "python3"
  },
  "language_info": {
   "codemirror_mode": {
    "name": "ipython",
    "version": 3
   },
   "file_extension": ".py",
   "mimetype": "text/x-python",
   "name": "python",
   "nbconvert_exporter": "python",
   "pygments_lexer": "ipython3",
   "version": "3.10.14"
  }
 },
 "nbformat": 4,
 "nbformat_minor": 5
}

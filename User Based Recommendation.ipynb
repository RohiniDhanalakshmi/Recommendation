{
 "cells": [
  {
   "cell_type": "code",
   "execution_count": 1,
   "id": "8adc9934-b4bb-49fb-8fec-dff7cb5c3c3b",
   "metadata": {},
   "outputs": [],
   "source": [
    "import pandas as pd \n",
    "import numpy as np"
   ]
  },
  {
   "cell_type": "code",
   "execution_count": 2,
   "id": "a265fc71-1568-4f3c-9f94-a61c4c558bb0",
   "metadata": {},
   "outputs": [],
   "source": [
    "read=('user_id','movie_id','rating','time')\n",
    "database=pd.read_csv('ml-100k/u.data',names=read,sep='\\t',encoding='latin-1')"
   ]
  },
  {
   "cell_type": "code",
   "execution_count": 3,
   "id": "0b621e75-7688-4ae4-bbb4-c8bcdc501dc0",
   "metadata": {},
   "outputs": [],
   "source": [
    "unique_user=database.user_id.unique().shape[0]\n",
    "unique_item=database.movie_id.unique().shape[0]"
   ]
  },
  {
   "cell_type": "code",
   "execution_count": 4,
   "id": "2575eacc-f492-4c44-aff9-c0dd38039be5",
   "metadata": {},
   "outputs": [],
   "source": [
    "pivotable= database.pivot_table(index='user_id', columns='movie_id',values='rating')"
   ]
  },
  {
   "cell_type": "code",
   "execution_count": 5,
   "id": "6daa3f0c-af98-481e-b040-25053abfa3ab",
   "metadata": {},
   "outputs": [],
   "source": [
    "replacing0 = pivotable.replace(np.nan,0)"
   ]
  },
  {
   "cell_type": "code",
   "execution_count": 6,
   "id": "4998adbf-3890-41e4-9475-2556f5b9b315",
   "metadata": {},
   "outputs": [],
   "source": [
    "from sklearn.metrics.pairwise import pairwise_distances \n",
    "user_cosine=pairwise_distances(replacing0,metric='cosine')\n",
    "movie_cosine=pairwise_distances(replacing0.T,metric='cosine')"
   ]
  },
  {
   "cell_type": "code",
   "execution_count": 7,
   "id": "503400f6-dd95-4794-a875-66badf7eca6f",
   "metadata": {},
   "outputs": [],
   "source": [
    "def predict(replacing0,user_cosine,type='user'):\n",
    "    if type=='user':\n",
    "        take_mean= replacing0.mean(axis=1)\n",
    "        doing_sub= (replacing0 - np.array(take_mean)[:,np.newaxis])\n",
    "        calcul=np.array(take_mean)[:,np.newaxis]+user_cosine.dot(doing_sub)/np.array([np.abs(user_cosine).sum(axis=1)]).T\n",
    "    elif type=='movie':\n",
    "        calcul=replacing0.dot(movie_cosine)/np.array([np.abs(movie_cosine).sum(axis=1)])\n",
    "    return calcul"
   ]
  },
  {
   "cell_type": "code",
   "execution_count": 8,
   "id": "b222638d-ac7b-437f-8a75-48c352b6a470",
   "metadata": {},
   "outputs": [],
   "source": [
    "user_prediction=predict(replacing0,user_cosine,type='user')\n",
    "movie_prediction=predict(replacing0,movie_cosine,type='movie')"
   ]
  },
  {
   "cell_type": "code",
   "execution_count": 9,
   "id": "0df34045-d964-45bb-baa7-5c8379d41db3",
   "metadata": {},
   "outputs": [],
   "source": [
    "input_userid=55"
   ]
  },
  {
   "cell_type": "code",
   "execution_count": 10,
   "id": "5b889a01-7b10-4a20-86fa-8b886657715e",
   "metadata": {},
   "outputs": [],
   "source": [
    "conv_dataframe=pd.DataFrame(user_cosine)"
   ]
  },
  {
   "cell_type": "code",
   "execution_count": 11,
   "id": "87ab1e78-b600-468e-bf93-0cf01a95788f",
   "metadata": {},
   "outputs": [
    {
     "data": {
      "text/plain": [
       "pandas.core.indexes.base.Index"
      ]
     },
     "execution_count": 11,
     "metadata": {},
     "output_type": "execute_result"
    }
   ],
   "source": [
    "sortvalue=conv_dataframe[input_userid].sort_values(ascending=True).head(5).index\n",
    "sortvalue"
   ]
  },
  {
   "cell_type": "code",
   "execution_count": 12,
   "id": "63a4d298-3531-483a-95ba-30f37db2829d",
   "metadata": {},
   "outputs": [
    {
     "data": {
      "text/plain": [
       "list"
      ]
     },
     "execution_count": 12,
     "metadata": {},
     "output_type": "execute_result"
    }
   ],
   "source": [
    "sortlist=list(sortvalue)\n",
    "sortlist"
   ]
  },
  {
   "cell_type": "code",
   "execution_count": 13,
   "id": "ef0b911b-a541-42ed-a71d-7393745b0728",
   "metadata": {},
   "outputs": [],
   "source": [
    "for reher in sortlist:\n",
    "     simiuser_movieid=list(database[database['user_id']==reher]['movie_id'])"
   ]
  },
  {
   "cell_type": "code",
   "execution_count": 14,
   "id": "5d6f1e08-59cd-4b05-8034-9fb267db2941",
   "metadata": {},
   "outputs": [
    {
     "data": {
      "text/plain": [
       "list"
      ]
     },
     "execution_count": 14,
     "metadata": {},
     "output_type": "execute_result"
    }
   ],
   "source": [
    "simiuser_movieid"
   ]
  },
  {
   "cell_type": "code",
   "execution_count": 16,
   "id": "9a2f8d21-3cf5-4c70-996b-09e18aca118d",
   "metadata": {},
   "outputs": [
    {
     "data": {
      "text/plain": [
       "59"
      ]
     },
     "execution_count": 16,
     "metadata": {},
     "output_type": "execute_result"
    }
   ],
   "source": [
    "len(simiuser_movieid)"
   ]
  },
  {
   "cell_type": "code",
   "execution_count": 17,
   "id": "5ddb7eff-1fa1-4f1a-8d37-253bc11739a8",
   "metadata": {},
   "outputs": [],
   "source": [
    "inputmovie=list(database[database['user_id']==input_userid]['movie_id'])"
   ]
  },
  {
   "cell_type": "code",
   "execution_count": 19,
   "id": "57e75b0b-5e1f-4bca-af57-4d58d4ad9817",
   "metadata": {},
   "outputs": [
    {
     "data": {
      "text/plain": [
       "21"
      ]
     },
     "execution_count": 19,
     "metadata": {},
     "output_type": "execute_result"
    }
   ],
   "source": [
    "len(inputmovie)"
   ]
  },
  {
   "cell_type": "code",
   "execution_count": 20,
   "id": "bc66b7d5-7622-4da8-9842-1e1053b2b151",
   "metadata": {},
   "outputs": [],
   "source": [
    "recom=[]\n",
    "for arra in simiuser_movieid:\n",
    "    if arra in inputmovie:\n",
    "        pass \n",
    "    else:\n",
    "        recom.append(arra)\n",
    "        "
   ]
  },
  {
   "cell_type": "code",
   "execution_count": 36,
   "id": "09daa55d-d20c-4283-9822-365fc80258d3",
   "metadata": {},
   "outputs": [
    {
     "data": {
      "text/plain": [
       "53"
      ]
     },
     "execution_count": 36,
     "metadata": {},
     "output_type": "execute_result"
    }
   ],
   "source": [
    "len(recom)"
   ]
  },
  {
   "cell_type": "code",
   "execution_count": 22,
   "id": "1fddf7d5-7f31-409a-9f65-fdd833f7260c",
   "metadata": {},
   "outputs": [],
   "source": [
    "predictdata=pd.DataFrame(user_prediction).T"
   ]
  },
  {
   "cell_type": "code",
   "execution_count": 47,
   "id": "d4623a7e-b65c-42b9-b389-5f8f80118229",
   "metadata": {},
   "outputs": [],
   "source": [
    "highest_value=[]\n",
    "oringal_inputdata=pd.DataFrame(predictdata[input_userid])\n",
    "oringal_inputdata_trans=oringal_inputdata.T\n",
    "for highvalue in recom:\n",
    "    high_movie=oringal_inputdata_trans[highvalue].values\n",
    "    if (high_movie>=1):\n",
    "        highest_value.append(highvalue)"
   ]
  },
  {
   "cell_type": "code",
   "execution_count": 50,
   "id": "7e668631-3c6c-4216-9a40-c106f939f88b",
   "metadata": {},
   "outputs": [
    {
     "data": {
      "text/plain": [
       "[237, 271, 275, 99, 195, 180, 116, 274, 68, 173]"
      ]
     },
     "execution_count": 50,
     "metadata": {},
     "output_type": "execute_result"
    }
   ],
   "source": [
    "highest_value"
   ]
  },
  {
   "cell_type": "code",
   "execution_count": 52,
   "id": "4e1b3d27-6fd4-4b19-abb7-408b15aaabd7",
   "metadata": {},
   "outputs": [],
   "source": [
    "i_cols = ['movie id', 'movie title' ,'release date','video release date', 'IMDb URL', 'unknown', 'Action', 'Adventure',\n",
    "'Animation', 'Children\\'s', 'Comedy', 'Crime', 'Documentary', 'Drama', 'Fantasy',\n",
    "'Film-Noir', 'Horror', 'Musical', 'Mystery', 'Romance', 'Sci-Fi', 'Thriller', 'War', 'Western']\n",
    "items = pd.read_csv('ml-100k/u.item', sep='|', names=i_cols,encoding='latin-1')"
   ]
  },
  {
   "cell_type": "code",
   "execution_count": 55,
   "id": "124c8543-5b90-46a3-bf7f-eda04f41e7fb",
   "metadata": {},
   "outputs": [],
   "source": [
    "movie_title=[]\n",
    "for identy in highest_value:\n",
    "    take_movie=items[items['movie id']==identy]['movie title']\n",
    "    movie_title.append(take_movie)"
   ]
  },
  {
   "cell_type": "code",
   "execution_count": 56,
   "id": "9a86dcc6-d4cd-44be-b5e4-cbed1eb59e89",
   "metadata": {},
   "outputs": [
    {
     "data": {
      "text/plain": [
       "[236    Jerry Maguire (1996)\n",
       " Name: movie title, dtype: object,\n",
       " 270    Starship Troopers (1997)\n",
       " Name: movie title, dtype: object,\n",
       " 274    Sense and Sensibility (1995)\n",
       " Name: movie title, dtype: object,\n",
       " 98    Snow White and the Seven Dwarfs (1937)\n",
       " Name: movie title, dtype: object,\n",
       " 194    Terminator, The (1984)\n",
       " Name: movie title, dtype: object,\n",
       " 179    Apocalypse Now (1979)\n",
       " Name: movie title, dtype: object,\n",
       " 115    Cold Comfort Farm (1995)\n",
       " Name: movie title, dtype: object,\n",
       " 273    Sabrina (1995)\n",
       " Name: movie title, dtype: object,\n",
       " 67    Crow, The (1994)\n",
       " Name: movie title, dtype: object,\n",
       " 172    Princess Bride, The (1987)\n",
       " Name: movie title, dtype: object]"
      ]
     },
     "execution_count": 56,
     "metadata": {},
     "output_type": "execute_result"
    }
   ],
   "source": [
    "movie_title"
   ]
  },
  {
   "cell_type": "code",
   "execution_count": 58,
   "id": "bd68d3c4-613a-4dd9-bc58-fc96ef9f8f9c",
   "metadata": {},
   "outputs": [
    {
     "data": {
      "text/plain": [
       "[]"
      ]
     },
     "execution_count": 58,
     "metadata": {},
     "output_type": "execute_result"
    }
   ],
   "source": [
    "checklist=set(inputmovie)&set(recom)\n",
    "list(checklist)"
   ]
  },
  {
   "cell_type": "code",
   "execution_count": null,
   "id": "7905d94f-b439-434f-a0e0-6b628545f252",
   "metadata": {},
   "outputs": [],
   "source": []
  },
  {
   "cell_type": "code",
   "execution_count": null,
   "id": "356b38d0-65e6-4ff7-99ec-e53160467f0c",
   "metadata": {},
   "outputs": [],
   "source": []
  }
 ],
 "metadata": {
  "kernelspec": {
   "display_name": "Python 3 (ipykernel)",
   "language": "python",
   "name": "python3"
  },
  "language_info": {
   "codemirror_mode": {
    "name": "ipython",
    "version": 3
   },
   "file_extension": ".py",
   "mimetype": "text/x-python",
   "name": "python",
   "nbconvert_exporter": "python",
   "pygments_lexer": "ipython3",
   "version": "3.10.14"
  }
 },
 "nbformat": 4,
 "nbformat_minor": 5
}

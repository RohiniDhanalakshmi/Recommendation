{
 "cells": [
  {
   "cell_type": "code",
   "execution_count": 1,
   "id": "61130f24-536a-4630-9e11-ad5b135c1893",
   "metadata": {},
   "outputs": [],
   "source": [
    "import pandas as pd\n",
    "import numpy as np"
   ]
  },
  {
   "cell_type": "code",
   "execution_count": 2,
   "id": "4e4937c4-5a3a-4241-8dab-919f5bef7ad0",
   "metadata": {},
   "outputs": [],
   "source": [
    "read1=['user_id','movie_id','rating','unix_timestamp']\n",
    "data=pd.read_csv('ml-100k/u.data',sep='\\t',names=read1,encoding='latin-1')"
   ]
  },
  {
   "cell_type": "code",
   "execution_count": 3,
   "id": "26bb5b99-2d6a-44b9-981f-3f977cfa1832",
   "metadata": {},
   "outputs": [],
   "source": [
    "user_un=data.user_id.unique().shape[0]\n",
    "item_un=data.movie_id.unique().shape[0]"
   ]
  },
  {
   "cell_type": "code",
   "execution_count": 4,
   "id": "40d9307f-ade7-4180-a13a-b3c20e286789",
   "metadata": {},
   "outputs": [],
   "source": [
    "piv=data.pivot_table(index='user_id',columns='movie_id',values='rating')"
   ]
  },
  {
   "cell_type": "code",
   "execution_count": 5,
   "id": "9d9d2e64-a046-4798-82ab-550fd4942285",
   "metadata": {},
   "outputs": [],
   "source": [
    "repa=piv.replace(np.nan,0).T\n",
    "repmean=repa.mean(axis=1)\n",
    "repsort=repmean.sort_values(ascending=False).head(10).index.tolist()"
   ]
  },
  {
   "cell_type": "code",
   "execution_count": 6,
   "id": "8b1a33f4-2dc9-47f7-b467-37c7840cbd4b",
   "metadata": {},
   "outputs": [],
   "source": [
    "def recommend(user_id,data,repsort,thresh):\n",
    "        recomto_use=data[data['user_id']==user_id]['movie_id'].tolist()\n",
    "        recom=[]\n",
    "        for i in repsort:\n",
    "             if i in recomto_use:\n",
    "                 pass\n",
    "             else:\n",
    "                 recom.append(i)\n",
    "        return recom "
   ]
  },
  {
   "cell_type": "code",
   "execution_count": 7,
   "id": "29f24f57-019b-4311-a3d3-ea0457cb40fe",
   "metadata": {},
   "outputs": [
    {
     "data": {
      "text/plain": [
       "[50, 100, 181, 174, 127, 1, 98]"
      ]
     },
     "execution_count": 7,
     "metadata": {},
     "output_type": "execute_result"
    }
   ],
   "source": [
    "recommend(129,data,repsort,0.2)"
   ]
  },
  {
   "cell_type": "code",
   "execution_count": null,
   "id": "54942a18-f16e-41f4-beb4-3212b8a35d45",
   "metadata": {},
   "outputs": [],
   "source": []
  },
  {
   "cell_type": "code",
   "execution_count": null,
   "id": "abdfddc3-2a71-4013-acd0-807d3bf4f94a",
   "metadata": {},
   "outputs": [],
   "source": []
  }
 ],
 "metadata": {
  "kernelspec": {
   "display_name": "Python 3 (ipykernel)",
   "language": "python",
   "name": "python3"
  },
  "language_info": {
   "codemirror_mode": {
    "name": "ipython",
    "version": 3
   },
   "file_extension": ".py",
   "mimetype": "text/x-python",
   "name": "python",
   "nbconvert_exporter": "python",
   "pygments_lexer": "ipython3",
   "version": "3.10.14"
  }
 },
 "nbformat": 4,
 "nbformat_minor": 5
}
